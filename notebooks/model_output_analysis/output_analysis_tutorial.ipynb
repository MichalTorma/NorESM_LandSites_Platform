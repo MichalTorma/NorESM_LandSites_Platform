{
 "cells": [
  {
   "cell_type": "markdown",
   "id": "fe07846e-dade-40df-84df-0b74d5f2e32a",
   "metadata": {},
   "source": [
    "# Plot model output\n",
    "## Explore NetCDF output variables produced by a successful model run\n",
    "This notebook is heavily inspired by https://github.com/NCAR/ctsm_python_gallery, https://mpaiao.github.io/FATES_Utils/index.html, and https://fates-users-guide.readthedocs.io/en/latest/index.html.\n",
    "\n",
    "It is important to note that this code was written for specific versions of CLM (GitHub release tag: `ctsm5.1.dev090`) and FATES (GitHub release tag: `sci.1.55.4_api.22.1.0`), and for the specific output produced by the NorESM-LSP without customizing the underlying model code. When the CESM community updates the models, they often change or add variables, which means that you may need to update the variable names within this notebook for other versions.\n",
    "\n",
    "**Read the instructions carefully. Unless stated otherwise, make sure to execute all code cells in sequential order.**\n",
    "\n",
    "In this notebook you will...\n",
    "1. Read in the concatenated output data\n",
    "2. Explore the full data set\n",
    "3. Create simple time series line plots\n",
    "4. Plot variables with more dimensions\n",
    "5. Understand the spin-up phase\n",
    "6. Look at carbon flux outputs\n",
    "\n",
    "Start by reading in some libraries:"
   ]
  },
  {
   "cell_type": "code",
   "execution_count": null,
   "id": "74aca49d-0c23-42d7-aa94-e9cc80c4d474",
   "metadata": {},
   "outputs": [],
   "source": [
    "import xarray as xr  # NetCDF data handling\n",
    "import matplotlib.pyplot as plt  # Plotting\n",
    "import time  # Keeping track of runtime\n",
    "import json  # For reading data dictionaries stored in json format\n",
    "import datetime as dt  # for workaround with long simulations (beyond year 2262)\n",
    "from pathlib import Path"
   ]
  },
  {
   "cell_type": "markdown",
   "id": "1934a305-6b66-400e-8a8f-0d9b17110a0d",
   "metadata": {},
   "source": [
    "---\n",
    "### Define names and path to the NetCDF output\n",
    "\n",
    "**Attention! Did you concatenate your output files already? By default, the model produces many seperate output files (one per month). You should concatenate them using the [combine_nc_files.ipynb](../../notebooks/combine_nc_files.ipynb) notebook to facilitate and speed up the analysis.**\n",
    "\n",
    "_Execute the next cell to display available case names/site IDs in the current version of the NorESM-LSP(optional)._"
   ]
  },
  {
   "cell_type": "code",
   "execution_count": null,
   "id": "dbc3f484-1528-452f-91b3-1a3895fa1517",
   "metadata": {
    "tags": []
   },
   "outputs": [],
   "source": [
    "with open(Path(\"../../config/sites.json\"), 'r', encoding='utf-8') as lsp_sites_json:\n",
    "    lsp_sites_dict = json.load(lsp_sites_json)\n",
    "    \n",
    "print(f\"{'Case name':>9}{'Long name':>25}\")\n",
    "print('-'*34)\n",
    "_ = [print(f\"{cur_site['properties']['name']:>9}{cur_site['properties']['long_name']:>25}\") for cur_site in lsp_sites_dict['features']]"
   ]
  },
  {
   "cell_type": "markdown",
   "id": "42a78eea",
   "metadata": {},
   "source": [
    "Change the case name and site name in the code cell below before executing it."
   ]
  },
  {
   "cell_type": "code",
   "execution_count": null,
   "id": "af5adf85-aa8f-40c7-affd-4d2e40af1b86",
   "metadata": {},
   "outputs": [],
   "source": [
    "# Add the full case name in quotation marks here! E.g.: \"5994e825658b853b95d61feccffd18ad_bor1-1000y\"\n",
    "case_name = \"54460ba2d205ff3b51c166c74f5320b3\"#\"5994e825658b853b95d61feccffd18ad_bor1-1000y\"\n",
    "\n",
    "# Enter the case ID (aka. short site code, see table above) in quotation marks here! E.g.: \"BOR1\".\n",
    "# ATTENTION! This is case sensitive and important to find the right paths: use the correct capitalization of letters!\n",
    "case_id = \"SUB1\"#\"BOR1\"\n",
    "\n",
    "# Path to the case's land archive output, i.e. the folder containing the `.nc` file(s) you want to analyse. \n",
    "# Only change this line if you renamed/moved the folder or moved files from the default location!\n",
    "output_data_path = Path(f\"../../cases/{case_name}/archive/lnd/\")"
   ]
  },
  {
   "cell_type": "markdown",
   "id": "d8dd390d",
   "metadata": {},
   "source": [
    "### Enter the name(s) of the output file(s) - READ CAREFULLY!\n",
    "\n",
    "In the likely case that you produced multiple output files, we recommend to concatenate these into a single file (see above). However, if you want to combine multiple files 'on the fly', you can uncomment the respective line in the next code cell and adapt it accordingl. Note that this process can take a long time!\n",
    "\n",
    "You can use the analysis examples in this notebook as a template for analysing additional history tapes, which you may have added in the graphical user interface when creating the case. Make sure to give the correct name (i.e. `h1`, `h2`, etc.) and that the variables you want to analyse are included in it.\n",
    "\n",
    "Change the output file name before executing the following code cell."
   ]
  },
  {
   "cell_type": "code",
   "execution_count": null,
   "id": "66abcd63-21ec-438e-b8ff-436ec40994f1",
   "metadata": {},
   "outputs": [],
   "source": [
    "# Enter the name of a single output file, e.g. created with the 'combine_nc_files' notebook. For example:\n",
    "file_path = f\"{output_data_path}/5994e825658b853b95d61feccffd18ad_bor1-1000y.h0.0001-1000.nc\"\n",
    "\n",
    "# Optional: enter name to read in multiple output files\n",
    "# The following line uses '*' wild card notation to combine all files from a given history tape on the fly\n",
    "# file_path = f\"{output_data_path}/hist/*h0*.nc\"  # Example for reading in multiple files at once, i.e. all in the given folder for history tape zero"
   ]
  },
  {
   "cell_type": "code",
   "execution_count": null,
   "id": "cd400a91-8d01-4619-a31b-4586b322dd3a",
   "metadata": {},
   "outputs": [],
   "source": [
    "# Read data, normally no need to change\n",
    "output_nc_data = xr.open_mfdataset(file_path,\n",
    "                                   combine='by_coords',\n",
    "                                   decode_times=True\n",
    "                                  )"
   ]
  },
  {
   "cell_type": "markdown",
   "id": "52c94600-5421-4fda-87aa-0539228a8ec2",
   "metadata": {},
   "source": [
    "### Create/define folder for the case's output plots\n",
    "\n",
    "The plots made with this notebook will be stored here."
   ]
  },
  {
   "cell_type": "code",
   "execution_count": null,
   "id": "2c27ed8e-e481-48f4-a17c-9e9f90b9df3f",
   "metadata": {},
   "outputs": [],
   "source": [
    "# Only change if you want to use a non-default location\n",
    "plot_save_path = Path().absolute() / case_name\n",
    "\n",
    "if not plot_save_path.is_dir():\n",
    "    plot_save_path.mkdir(parents=True, exist_ok=True)"
   ]
  },
  {
   "cell_type": "markdown",
   "id": "7f46d334-4c44-4fba-80ef-34fc84fd5038",
   "metadata": {},
   "source": [
    "### Data set exploration\n",
    "There are different ways to explore your model output dataset. The code cell below prints relevant information about the NetCDF file(s) you specified above using the `xarray` package functionalities. Note that you can click in the printed information below to display more informaton. Alternatively, you can open [Panoply](http://localhost:5800/), which we include as a seperate service in the NorESM-LSP for convenience (see NorESM documentation). Panoply is ideal if you want to get a quick overview of all output variables: you can browse them in a list and easily create plots via an interactive Graphical User Interface. You simply need to navigate to your output directory at the top (by default contained in `/resources/cases/your_case_id`) to load in the data. Additional details about its full functionalities and usage instructions can be found [here](https://www.giss.nasa.gov/tools/panoply/)."
   ]
  },
  {
   "cell_type": "code",
   "execution_count": null,
   "id": "627c5e33",
   "metadata": {
    "scrolled": true,
    "tags": []
   },
   "outputs": [],
   "source": [
    "# Print full dataset information\n",
    "output_nc_data"
   ]
  },
  {
   "cell_type": "markdown",
   "id": "1180ffd3-7e94-4a1e-baac-5a8e3b271778",
   "metadata": {},
   "source": [
    "If you want to learn more about the structure of NetCDF files, you may find [this introduction summary](https://adyork.github.io/python-oceanography-lesson/17-Intro-NetCDF/index.html) helpful."
   ]
  },
  {
   "cell_type": "markdown",
   "id": "462e4c9d-52f9-40a5-9cbd-36c388192c95",
   "metadata": {},
   "source": [
    "---\n",
    "# Create simple time series line plots\n",
    "##### Plot variables with only time and lndgrid dimensions.\n",
    "There are multiple ways to create output plots from xarray `DataArray` objects, i.e., for all the variables contained in the full xarray `DataSet` that we created when reading in the NetCDF files. For more details, check https://docs.xarray.dev/en/latest/user-guide/plotting.html.\n",
    "\n",
    "Let's start by selecting one of the `Data variables` from the output above that only has `time` and `lndgrid` dimensions (listed in the parentheses in the second column when you display the data). You can switch the variable name and execute the next two code cells multiple times if you wish."
   ]
  },
  {
   "cell_type": "code",
   "execution_count": null,
   "id": "0dcc0f2a",
   "metadata": {},
   "outputs": [],
   "source": [
    "var_name = \"FATES_VEGC_ABOVEGROUND\" # \"FATES_AREA_TREES\", \"FATES_GPP\", \"SNOW\"..."
   ]
  },
  {
   "cell_type": "markdown",
   "id": "c567b813",
   "metadata": {},
   "source": [
    "Next, explore your choice by assigning the specific variable object to a new Python variable name and by printing its content."
   ]
  },
  {
   "cell_type": "code",
   "execution_count": null,
   "id": "13220b3f",
   "metadata": {},
   "outputs": [],
   "source": [
    "var = output_nc_data[var_name]\n",
    "var"
   ]
  },
  {
   "cell_type": "markdown",
   "id": "9e82b832",
   "metadata": {},
   "source": [
    "---\n",
    "The simplest way to create a plot is to use the `plot()` method that is already built into `DataArray`s. This approach is great for quick exploration, but experienced Python users may prefer the known interface and full flexibility of `matplotlib`, which we will use afterwards. The following code cell plots the variable you defined in the cells above."
   ]
  },
  {
   "cell_type": "code",
   "execution_count": null,
   "id": "f91de62a",
   "metadata": {},
   "outputs": [],
   "source": [
    "# Directly call the DataArray's plot method\n",
    "var.plot()"
   ]
  },
  {
   "cell_type": "markdown",
   "id": "e6817a29",
   "metadata": {},
   "source": [
    "As you see, this method automatically detects the internal structure of the data (2D-line plot) and assigns sensible values and labels to the axes (i.e., simulation dates and variable long name including unit). It is also possible to provide additional arguments to the function call to adapt the plot, see [the Xarray docs](https://docs.xarray.dev/en/latest/generated/xarray.DataArray.plot.html#xarray.DataArray.plot) for details.\n",
    "\n",
    "You can also create plots with other packages by accessing the object's values directly, e.g., with the popular `matplotlib` library. Note that the `DataArray.plot()` method also uses this library \"under the hood\"."
   ]
  },
  {
   "cell_type": "code",
   "execution_count": null,
   "id": "43f737dd-8d77-4962-a54c-a111bf5d9dc5",
   "metadata": {},
   "outputs": [],
   "source": [
    "# Create the same plot using matplotlib library directly\n",
    "fig, ax = plt.subplots(figsize=(10, 6))\n",
    "\n",
    "ax.plot(output_nc_data['time'], var)\n",
    "ax.set_title(f\"Plotted variable: {var_name}\")\n",
    "ax.set_xlabel(\"Date\")\n",
    "ax.set_ylabel(f\"{var.long_name} [{output_nc_data[var_name].units}]\");"
   ]
  },
  {
   "cell_type": "markdown",
   "id": "09206405",
   "metadata": {},
   "source": [
    "---\n",
    "# Plotting variables with more dimensions\n",
    "We will now create plots for a variable with more dimensions, namely `FATES_VEGC_PF`, which stores the amount of total biomass in kg of carbon per land area for each included PFT."
   ]
  },
  {
   "cell_type": "code",
   "execution_count": null,
   "id": "9d9f4067",
   "metadata": {},
   "outputs": [],
   "source": [
    "# Variable name for biomass per PFT in dataset\n",
    "var_name = \"FATES_VEGC_PF\""
   ]
  },
  {
   "cell_type": "markdown",
   "id": "2532fb31",
   "metadata": {},
   "source": [
    "Start by again calling the internal `DataArray.plot()` method."
   ]
  },
  {
   "cell_type": "code",
   "execution_count": null,
   "id": "621c1892",
   "metadata": {},
   "outputs": [],
   "source": [
    "pft_biomass = output_nc_data[var_name]\n",
    "pft_biomass.plot()"
   ]
  },
  {
   "cell_type": "markdown",
   "id": "3c4c0d1c",
   "metadata": {},
   "source": [
    "Here the default plotting method is arguably not ideal to display the output. We will hence create a customized multi-line plot and provide custom labels.\n",
    "\n",
    "---\n",
    "The following cell reads and defines some FATES PFT properties as Python `dict`(ionary) objects that we will use for plotting."
   ]
  },
  {
   "cell_type": "code",
   "execution_count": null,
   "id": "8dfe12e6",
   "metadata": {
    "tags": []
   },
   "outputs": [],
   "source": [
    "\"\"\"\n",
    "Load and create dictionaries defining PFT and plot properties.\n",
    "NB: this is version and model setting dependent!\n",
    "The 'fates_pft_dict' keys are the PFT indices used in the FATES output.\n",
    "\"\"\"\n",
    "\n",
    "with open(Path(\"./dicts/default_fates_pfts.json\"), 'r', encoding='utf-8') as fates_pft_json:\n",
    "    fates_pft_dict = json.load(fates_pft_json)\n",
    "\n",
    "pft_group_plot_dict = {\n",
    "    \"tree\": {\n",
    "        \"linestyle\": \"-\"\n",
    "    },\n",
    "    \"shrub\": {\n",
    "        \"linestyle\": \"--\"\n",
    "    },\n",
    "    \"grass\": {\n",
    "        \"linestyle\": \":\"\n",
    "    }\n",
    "}"
   ]
  },
  {
   "cell_type": "markdown",
   "id": "cfbba10e-64ca-4d2b-ba37-d7ceb2ef72e4",
   "metadata": {
    "tags": []
   },
   "source": [
    "<h3 style=\"color:red;\">NB! Did you use non-default PFT indices?</h3>\n",
    "If you used all the PFT in your simulation, you don't need to change anything. If you changed the number of PFTs for your simulation, you need to adjust the following code. That is, you need to enter the same list of PFT indices you used when you created the case in the GUI:\n",
    "\n",
    "1. Open the GUI window/tab (localhost:8080) and click on the site name, either using the map or the overview at the top\n",
    "2. Under `Cases`, search for the case ID you are analyzing here\n",
    "3. Click on ___See Variables___\n",
    "4. Copy the list of integers displayed for `included_pft_indices` into the `custom_pft_indices` variable in the code cell below\n",
    "5. Set the value for `use_custom_pfts` to `True`"
   ]
  },
  {
   "cell_type": "code",
   "execution_count": null,
   "id": "7a795622-c253-4f3c-8306-503e8ef0f791",
   "metadata": {
    "tags": []
   },
   "outputs": [],
   "source": [
    "# ADJUST HERE\n",
    "use_custom_pfts = False  # True or False\n",
    "\n",
    "if use_custom_pfts:\n",
    "    custom_pft_indices = [  # Add the comma-seperated list of PFT indices below. OBS! Do not remove the square brackets!\n",
    "        7, 8, 9, 10, 11\n",
    "    ]\n",
    "\n",
    "    # NO NEED TO TOUCH THE FOLLOWING LINES #\n",
    "    # Create new dict for included PFTs from default\n",
    "    custom_pft_dict = {str(idx+1): fates_pft_dict[str(pft_idx)] for idx, pft_idx in enumerate(custom_pft_indices)}\n",
    "    custom_pft_dict"
   ]
  },
  {
   "cell_type": "markdown",
   "id": "d013ea64",
   "metadata": {},
   "source": [
    "Look at the biomass per PFT variable before making the next plot."
   ]
  },
  {
   "cell_type": "code",
   "execution_count": null,
   "id": "4531aa4f",
   "metadata": {
    "scrolled": true
   },
   "outputs": [],
   "source": [
    "# Display variable details\n",
    "pft_biomass"
   ]
  },
  {
   "cell_type": "markdown",
   "id": "03a794b4",
   "metadata": {},
   "source": [
    "Now let's use Matplotlib again to create a multi-line plot to depict the PFT biomass dynamics in a more tangible way. Note that you can also achieve a similar result with the built-in `DataArray.plot()` method by providing additional arguments."
   ]
  },
  {
   "cell_type": "code",
   "execution_count": null,
   "id": "ff079a11",
   "metadata": {},
   "outputs": [],
   "source": [
    "# Instantiate plot\n",
    "fig, ax = plt.subplots(figsize=(10,6))\n",
    "\n",
    "# Create a multi-line plot by looping through PFT properties\n",
    "plot_handle_list = []\n",
    "\n",
    "# Determine whether default or customized PFTs were used based on boolean variable\n",
    "pft_dict = custom_pft_dict if use_custom_pfts else fates_pft_dict\n",
    "\n",
    "for cur_pft_idx in pft_biomass.fates_levpft:\n",
    "    \n",
    "    cur_pft_dict = pft_dict[str(int(cur_pft_idx))]\n",
    "    \n",
    "    # Plot biomass for current PFT index\n",
    "    cur_plot_handles, = ax.plot(output_nc_data['time'],\n",
    "                                pft_biomass.sel(fates_levpft=cur_pft_idx),\n",
    "                                label=cur_pft_dict[\"long_name\"],\n",
    "                                linestyle=pft_group_plot_dict[cur_pft_dict[\"group\"]][\"linestyle\"],\n",
    "                                linewidth=1.5\n",
    "                               )\n",
    "    \n",
    "    plot_handle_list.append(cur_plot_handles)\n",
    "\n",
    "# Set overall plot layout\n",
    "ax.set_title(f\"{case_id}: {pft_biomass.long_name}\")\n",
    "ax.set_xlabel(\"Simulation date\", fontsize=14)\n",
    "ax.set_ylabel(f\"{var_name} [{pft_biomass.units}]\", fontsize=14)\n",
    "\n",
    "ax.legend(\n",
    "    handles=plot_handle_list,\n",
    "    bbox_to_anchor=(1.05, 1),  # Places the legend outside to the plotting area\n",
    "    loc='upper left',\n",
    "    fontsize=11\n",
    ");"
   ]
  },
  {
   "cell_type": "markdown",
   "id": "71bfd684-1deb-4b0e-a7ba-701be1d82ea4",
   "metadata": {},
   "source": [
    "Note that this plot shows the **total PFT-level biomass**, ergo the sum of the above- and belowground biomasses of all respective PFT cohorts across all simulated patches, scaled to kg/m²."
   ]
  },
  {
   "cell_type": "markdown",
   "id": "2ebaf81d",
   "metadata": {
    "tags": []
   },
   "source": [
    "---\n",
    "# `runtype = startup` - the simulation spin-up period\n",
    "\n",
    "After we have learned how to read the data and how to create output plots while taking the differences in variable dimensions into account, we now want to focus on explaining what we see. One notorious challenge when using earth system models is the computationally expensive **spin-up phase**. When choosing `runtype=startup` in the model settings, which is the NorESM-LSP default, we start the model from a so-called \"bare ground\" state: the simulation commences from bare soil without any vegetation and empty carbon pools (soil, litter, etc.). In the beginning, fast-growing pioneer PFTs like grasses or fast-growing trees may thrive, before they are outcompeted by other plants or die if the climate is unsuitable. Consequently, model results that did not undergo a sufficiently long spin-up period should usually be considered invalid.\n",
    "\n",
    "The spin-up period computational load can be maneageable for single-site simulations, but it gets more difficult the larger the simulated area is and the more model components you include. In CLM-FATES, the starting conditions are chiefly controlled by the `runtype` parameter - depending on its value, additional files and parameter changes may be required. For example, it is also possible to use a previous spin-up simulation as a starting point for other modelling experiments, which is currently not implemented in the NorESM-LSP's GUI.\n",
    "\n",
    "Let's create plots to investigate some important state variables over our chosen simulation period.\n",
    "\n",
    "_The following plots are inspired by the CTSM analysis tool mentioned [here](https://escomp.github.io/ctsm-docs/versions/release-clm5.0/html/users_guide/running-special-cases/Spinning-up-the-biogeochemistry-BGC-spinup.html)._"
   ]
  },
  {
   "cell_type": "code",
   "execution_count": null,
   "id": "47366093-191b-4bac-8544-acade9d67606",
   "metadata": {},
   "outputs": [],
   "source": [
    "# Use this cell to explore the variables defined below, if you want. E.g.:\n",
    "# output_nc_data[\"TWS\"]"
   ]
  },
  {
   "cell_type": "code",
   "execution_count": null,
   "id": "4371ddd0",
   "metadata": {},
   "outputs": [],
   "source": [
    "import math\n",
    "\n",
    "# Variables to plot from 'output_nc_data', feel free to add more names to the list\n",
    "var_names = [\"FATES_VEGC_ABOVEGROUND\", \"TWS\", \"TOTSOMC\", \"TLAI\"]\n",
    "\n",
    "# Instantiate figure with subplot grid adapted to number of variables provided\n",
    "fig, axes = plt.subplots(\n",
    "    nrows=math.ceil(len(var_names)/2),\n",
    "    ncols=2,\n",
    "    figsize=(15, math.ceil(len(var_names)/2)*6)\n",
    ")\n",
    "\n",
    "# Delete empty axis object if number of variable names in list is odd\n",
    "if len(axes.flatten()) != len(var_names):\n",
    "    if len(axes.flatten()) == 2:\n",
    "        fig.delaxes(axes[-1])\n",
    "    else:\n",
    "        fig.delaxes(axes[-1, -1])\n",
    "\n",
    "# Plot all variables\n",
    "for ax, var in zip(axes.flatten(), var_names):\n",
    "    output_nc_data[var].plot(ax=ax)"
   ]
  },
  {
   "cell_type": "markdown",
   "id": "0da562ef-bef9-436d-8342-804a37e6ff62",
   "metadata": {},
   "source": [
    "If you used `runtype=startup` for your simulation, you should see that the values in the plots above start at an arbitrary value, fluctuate with the seasons, and commonly start increasing over several years. For sufficiently long periods they should stabilize over time: the vegetation and carbon pools reach an equilibrium state. The variables still fluctuate at equilibrium, driven by model processes such as disturbances and plant mortality, and by climatic variability in the forcing data, but the magnitudes and \"overall patterns\" do not change drastically anymore. Some state variables such as the soil carbon pool can take particularly long until they reach equilibrium due to the slow nature of the involved processes (decomposition, litter buildup, etc.). Reaching a steady state may take a long time, from hundreds to thousands of simulation years, especially in cold or dry climates where vegetation growth is slow."
   ]
  },
  {
   "cell_type": "markdown",
   "id": "4b897681",
   "metadata": {},
   "source": [
    "---\n",
    "# Carbon fluxes\n",
    "\n",
    "A classic application for DGVMs is to investigate climate-vegetation interactions with respect to plants' crucial role in the carbon cycle. Accordingly, there are many ways to analyze how carbon \"moves\" between the different components of the models, for instance between the land surface and atmosphere. Let's explore some total annual C fluxes in the single-site simulation over time, summed across PFTs and patches."
   ]
  },
  {
   "cell_type": "code",
   "execution_count": null,
   "id": "ed01b508",
   "metadata": {
    "scrolled": true
   },
   "outputs": [],
   "source": [
    "# Display data again to investigate variables related to C fluxes\n",
    "output_nc_data"
   ]
  },
  {
   "cell_type": "markdown",
   "id": "e8b27644",
   "metadata": {},
   "source": [
    "Choose which variables to plot:"
   ]
  },
  {
   "cell_type": "code",
   "execution_count": null,
   "id": "39da6cec",
   "metadata": {},
   "outputs": [],
   "source": [
    "# Names of the variables that represent important C fluxes\n",
    "# It is possible to add new variable names to the list (plots will be added automatically)\n",
    "c_flux_var_names = [\"FATES_VEGC_ABOVEGROUND\", \"FATES_NPP\", \"FATES_NEP\", \"FATES_GPP\", \"CH4PROD\", \"FATES_AUTORESP\"]\n",
    "c_flux_vars = [output_nc_data[s] for s in c_flux_var_names]"
   ]
  },
  {
   "cell_type": "markdown",
   "id": "b541953f",
   "metadata": {},
   "source": [
    "Create plots:"
   ]
  },
  {
   "cell_type": "code",
   "execution_count": null,
   "id": "721d1dd0",
   "metadata": {},
   "outputs": [],
   "source": [
    "for c_var in c_flux_vars:\n",
    "    fig, ax = plt.subplots(figsize=(10,8))\n",
    "    \n",
    "    c_var_annual = c_var.resample(time='1Y').mean()\n",
    "    \n",
    "    #cur_plot_handle, = \\\n",
    "    ax.plot(c_var_annual['time'], c_var_annual, label=c_var.long_name.capitalize())\n",
    "\n",
    "    ax.set_title(f\"{case_id}: {c_var.long_name}\")\n",
    "    ax.set_xlabel(\"Date\", fontsize=14)\n",
    "    ax.set_ylabel(f\"{c_var.name} [{c_var.units}]\", fontsize=14)\n",
    "    \n",
    "    # Use plain notation, i.e., avoid scientific \"1e-3\" notation\n",
    "    ax.ticklabel_format(style='plain', axis='y')"
   ]
  }
 ],
 "metadata": {
  "kernelspec": {
   "display_name": "Python 3 (ipykernel)",
   "language": "python",
   "name": "python3"
  },
  "language_info": {
   "codemirror_mode": {
    "name": "ipython",
    "version": 3
   },
   "file_extension": ".py",
   "mimetype": "text/x-python",
   "name": "python",
   "nbconvert_exporter": "python",
   "pygments_lexer": "ipython3",
   "version": "3.10.6"
  }
 },
 "nbformat": 4,
 "nbformat_minor": 5
}
